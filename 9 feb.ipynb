{
 "cells": [
  {
   "cell_type": "code",
   "execution_count": null,
   "id": "4bb3b58b-1605-4dd2-9325-c31b95147e04",
   "metadata": {},
   "outputs": [],
   "source": [
    "Q1, Create a vehicle class with an init method having instance variables as name_of_vehicle, max_speed\n",
    "and average_of_vehicle."
   ]
  },
  {
   "cell_type": "code",
   "execution_count": 1,
   "id": "1ceb3f08-9139-4092-a1f0-4f01c1028590",
   "metadata": {},
   "outputs": [],
   "source": [
    "class Vehicle:\n",
    "    def __init__(self, name_of_vehicle, max_speed, average_of_vehicle):\n",
    "        self.name_of_vehicle = name_of_vehicle\n",
    "        self.max_speed = max_speed\n",
    "        self.average_of_vehicle = average_of_vehicle\n",
    "\n",
    "    def __str__(self):\n",
    "        return f\"Vehicle: {self.name_of_vehicle}, Max Speed: {self.max_speed} km/h, Average: {self.average_of_vehicle} km/l\"\n"
   ]
  },
  {
   "cell_type": "code",
   "execution_count": null,
   "id": "5563f70b-de69-4187-8738-51f6c4fc3711",
   "metadata": {},
   "outputs": [],
   "source": [
    "Q2. Create a child class car from the vehicle class created in Que 1, which will inherit the vehicle class.\n",
    "Create a method named seating_capacity which takes capacity as an argument and returns the name of\n",
    "the vehicle and its seating capacity."
   ]
  },
  {
   "cell_type": "code",
   "execution_count": 2,
   "id": "439658a2-2676-43db-8bba-21e179321eec",
   "metadata": {},
   "outputs": [
    {
     "name": "stdout",
     "output_type": "stream",
     "text": [
      "Vehicle: Toyota Camry, Max Speed: 180 km/h, Average: 15 km/l\n",
      "Toyota Camry has a seating capacity of 5 people\n",
      "Vehicle: Honda Civic, Max Speed: 200 km/h, Average: 18 km/l\n",
      "Honda Civic has a seating capacity of 4 people\n"
     ]
    }
   ],
   "source": [
    "class Vehicle:\n",
    "    def __init__(self, name_of_vehicle, max_speed, average_of_vehicle):\n",
    "        self.name_of_vehicle = name_of_vehicle\n",
    "        self.max_speed = max_speed\n",
    "        self.average_of_vehicle = average_of_vehicle\n",
    "\n",
    "    def __str__(self):\n",
    "        return f\"Vehicle: {self.name_of_vehicle}, Max Speed: {self.max_speed} km/h, Average: {self.average_of_vehicle} km/l\"\n",
    "\n",
    "class Car(Vehicle):\n",
    "    def __init__(self, name_of_vehicle, max_speed, average_of_vehicle):\n",
    "        super().__init__(name_of_vehicle, max_speed, average_of_vehicle)\n",
    "\n",
    "    def seating_capacity(self, capacity):\n",
    "        return f\"{self.name_of_vehicle} has a seating capacity of {capacity} people\"\n",
    "\n",
    "# Example usage:\n",
    "\n",
    "car1 = Car(\"Toyota Camry\", 180, 15)\n",
    "print(car1)\n",
    "print(car1.seating_capacity(5)) \n",
    "\n",
    "car2 = Car(\"Honda Civic\", 200, 18)\n",
    "print(car2) \n",
    "print(car2.seating_capacity(4)) \n"
   ]
  },
  {
   "cell_type": "code",
   "execution_count": null,
   "id": "9c0473a0-9206-4d41-a7f1-602ceeebaaff",
   "metadata": {},
   "outputs": [],
   "source": [
    "Q3. What is multiple inheritance? Write a python code to demonstrate multiple inheritance."
   ]
  },
  {
   "cell_type": "code",
   "execution_count": null,
   "id": "02c6fb43-54f8-4e0f-b240-9cadc16ed0dd",
   "metadata": {},
   "outputs": [],
   "source": [
    "Multiple inheritance is a feature in object-oriented programming where a class can inherit attributes\n",
    "and methods from more than one parent class. This allows a child class\n",
    "to inherit and combine features from multiple base classes."
   ]
  },
  {
   "cell_type": "code",
   "execution_count": 1,
   "id": "a848868e-0ea2-41d5-8b96-720f22c9d8df",
   "metadata": {},
   "outputs": [
    {
     "name": "stdout",
     "output_type": "stream",
     "text": [
      "Car Name: Toyota Camry\n",
      "Vehicle: Toyota Camry, Max Speed: 180 km/h\n",
      "Average Efficiency: 15 km/l\n",
      "Max Speed of Toyota Camry: 180 km/h\n",
      "Average Efficiency of Toyota Camry: 15 km/l\n"
     ]
    }
   ],
   "source": [
    "# Parent class 1\n",
    "class Vehicle:\n",
    "    def __init__(self, name, max_speed):\n",
    "        self.name = name\n",
    "        self.max_speed = max_speed\n",
    "\n",
    "    def display_info(self):\n",
    "        print(f\"Vehicle: {self.name}, Max Speed: {self.max_speed} km/h\")\n",
    "\n",
    "# Parent class 2\n",
    "class FuelEfficiency:\n",
    "    def __init__(self, average):\n",
    "        self.average = average\n",
    "\n",
    "    def display_efficiency(self):\n",
    "        print(f\"Average Efficiency: {self.average} km/l\")\n",
    "\n",
    "# Child class inheriting from Vehicle and FuelEfficiency\n",
    "class Car(Vehicle, FuelEfficiency):\n",
    "    def __init__(self, name, max_speed, average):\n",
    "        # Initialize parent classes explicitly\n",
    "        Vehicle.__init__(self, name, max_speed)\n",
    "        FuelEfficiency.__init__(self, average)\n",
    "\n",
    "    def display_details(self):\n",
    "        print(f\"Car Name: {self.name}\")\n",
    "        self.display_info() \n",
    "        self.display_efficiency()  \n",
    "\n",
    "# Create an instance of Car\n",
    "my_car = Car(\"Toyota Camry\", 180, 15)\n",
    "\n",
    "# Demonstrate method calls\n",
    "my_car.display_details()\n",
    "\n",
    "# Accessing attributes directly\n",
    "print(f\"Max Speed of {my_car.name}: {my_car.max_speed} km/h\")\n",
    "print(f\"Average Efficiency of {my_car.name}: {my_car.average} km/l\")\n"
   ]
  },
  {
   "cell_type": "code",
   "execution_count": null,
   "id": "e94606c7-913b-49ed-b39a-c71b0f421f3e",
   "metadata": {},
   "outputs": [],
   "source": [
    "Q4. What are getter and setter in python? Create a class and create a getter and a setter method in this\n",
    "class."
   ]
  },
  {
   "cell_type": "code",
   "execution_count": 2,
   "id": "ee3016c6-8179-4486-95b5-1e460fe0b9ff",
   "metadata": {},
   "outputs": [
    {
     "name": "stdout",
     "output_type": "stream",
     "text": [
      "Brand: Toyota\n",
      "Model: Camry\n",
      "Year: 2020\n",
      "Invalid year. Setting year to 2023.\n",
      "Updated Year: 2023\n",
      "Updated Brand: Honda\n"
     ]
    }
   ],
   "source": [
    "class Car:\n",
    "    def __init__(self, brand, model, year):\n",
    "        self._brand = brand  # Private attribute\n",
    "        self._model = model  # Private attribute\n",
    "        self._year = year    # Private attribute\n",
    "\n",
    "    # Getter method for brand\n",
    "    def get_brand(self):\n",
    "        return self._brand\n",
    "\n",
    "    # Setter method for brand\n",
    "    def set_brand(self, brand):\n",
    "        self._brand = brand\n",
    "\n",
    "    # Getter method for model\n",
    "    def get_model(self):\n",
    "        return self._model\n",
    "\n",
    "    # Setter method for model\n",
    "    def set_model(self, model):\n",
    "        self._model = model\n",
    "\n",
    "    # Getter method for year\n",
    "    def get_year(self):\n",
    "        return self._year\n",
    "\n",
    "    # Setter method for year\n",
    "    def set_year(self, year):\n",
    "        if year < 1900:\n",
    "            print(\"Invalid year. Setting year to 1900.\")\n",
    "            self._year = 1900\n",
    "        elif year > 2023:\n",
    "            print(\"Invalid year. Setting year to 2023.\")\n",
    "            self._year = 2023\n",
    "        else:\n",
    "            self._year = year\n",
    "\n",
    "# Example usage:\n",
    "my_car = Car(\"Toyota\", \"Camry\", 2020)\n",
    "\n",
    "# Using getter methods\n",
    "print(\"Brand:\", my_car.get_brand()) \n",
    "print(\"Model:\", my_car.get_model())  \n",
    "print(\"Year:\", my_car.get_year())    \n",
    "\n",
    "# Using setter methods\n",
    "my_car.set_year(2025) \n",
    "print(\"Updated Year:\", my_car.get_year())  \n",
    "\n",
    "my_car.set_brand(\"Honda\")\n",
    "print(\"Updated Brand:\", my_car.get_brand())  \n"
   ]
  },
  {
   "cell_type": "code",
   "execution_count": null,
   "id": "98e981ea-2364-48ea-9628-4eb560f035bb",
   "metadata": {},
   "outputs": [],
   "source": [
    "Q5.What is method overriding in python? Write a python code to demonstrate method overriding."
   ]
  },
  {
   "cell_type": "code",
   "execution_count": null,
   "id": "fc1fa151-c055-470c-9839-f7b504dfe701",
   "metadata": {},
   "outputs": [],
   "source": [
    "Method overriding in Python is the ability of a subclass to provide a specific implementation of a method that is already defined in its superclass. \n",
    "When a method in the subclass has the same name, same parameters, and same return type as a method in its superclass, \n",
    "the method in the subclass overrides the method in the superclass."
   ]
  },
  {
   "cell_type": "code",
   "execution_count": null,
   "id": "e959c37b-42f8-4a9e-b672-41a64443d000",
   "metadata": {},
   "outputs": [],
   "source": [
    "# Parent class\n",
    "class Animal:\n",
    "    def speak(self):\n",
    "        print(\"Animal speaks\")\n",
    "\n",
    "# Child class inheriting from Animal\n",
    "class Dog(Animal):\n",
    "    def speak(self):\n",
    "        print(\"Dog barks\")\n",
    "\n",
    "# Child class inheriting from Animal\n",
    "class Cat(Animal):\n",
    "    def speak(self):\n",
    "        print(\"Cat meows\")\n",
    "\n",
    "# Creating instances\n",
    "animal = Animal()\n",
    "dog = Dog()\n",
    "cat = Cat()\n",
    "\n",
    "# Method calls\n",
    "animal.speak()  # Output: Animal speaks\n",
    "dog.speak()     # Output: Dog barks\n",
    "cat.speak()     # Output: Cat meows\n"
   ]
  }
 ],
 "metadata": {
  "kernelspec": {
   "display_name": "Python 3 (ipykernel)",
   "language": "python",
   "name": "python3"
  },
  "language_info": {
   "codemirror_mode": {
    "name": "ipython",
    "version": 3
   },
   "file_extension": ".py",
   "mimetype": "text/x-python",
   "name": "python",
   "nbconvert_exporter": "python",
   "pygments_lexer": "ipython3",
   "version": "3.10.8"
  }
 },
 "nbformat": 4,
 "nbformat_minor": 5
}
